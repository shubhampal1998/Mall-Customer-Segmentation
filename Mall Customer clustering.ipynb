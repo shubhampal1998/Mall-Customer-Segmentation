{
 "cells": [
  {
   "cell_type": "markdown",
   "id": "5c998fa8",
   "metadata": {},
   "source": [
    "# Importing all the Libraries"
   ]
  },
  {
   "cell_type": "code",
   "execution_count": null,
   "id": "41cf97b3",
   "metadata": {},
   "outputs": [],
   "source": [
    "import numpy as np\n",
    "import pandas as pd\n",
    "import matplotlib.pyplot as plt\n",
    "import seaborn as sns"
   ]
  },
  {
   "cell_type": "code",
   "execution_count": 35,
   "id": "b6c05abd",
   "metadata": {},
   "outputs": [],
   "source": [
    "data = pd.read_csv('Mall_Customers.csv')"
   ]
  },
  {
   "cell_type": "code",
   "execution_count": 36,
   "id": "2306a69c",
   "metadata": {},
   "outputs": [
    {
     "data": {
      "text/html": [
       "<div>\n",
       "<style scoped>\n",
       "    .dataframe tbody tr th:only-of-type {\n",
       "        vertical-align: middle;\n",
       "    }\n",
       "\n",
       "    .dataframe tbody tr th {\n",
       "        vertical-align: top;\n",
       "    }\n",
       "\n",
       "    .dataframe thead th {\n",
       "        text-align: right;\n",
       "    }\n",
       "</style>\n",
       "<table border=\"1\" class=\"dataframe\">\n",
       "  <thead>\n",
       "    <tr style=\"text-align: right;\">\n",
       "      <th></th>\n",
       "      <th>CustomerID</th>\n",
       "      <th>Gender</th>\n",
       "      <th>Age</th>\n",
       "      <th>Annual Income (k$)</th>\n",
       "      <th>Spending Score (1-100)</th>\n",
       "    </tr>\n",
       "  </thead>\n",
       "  <tbody>\n",
       "    <tr>\n",
       "      <th>0</th>\n",
       "      <td>1</td>\n",
       "      <td>Male</td>\n",
       "      <td>19</td>\n",
       "      <td>15</td>\n",
       "      <td>39</td>\n",
       "    </tr>\n",
       "    <tr>\n",
       "      <th>1</th>\n",
       "      <td>2</td>\n",
       "      <td>Male</td>\n",
       "      <td>21</td>\n",
       "      <td>15</td>\n",
       "      <td>81</td>\n",
       "    </tr>\n",
       "    <tr>\n",
       "      <th>2</th>\n",
       "      <td>3</td>\n",
       "      <td>Female</td>\n",
       "      <td>20</td>\n",
       "      <td>16</td>\n",
       "      <td>6</td>\n",
       "    </tr>\n",
       "    <tr>\n",
       "      <th>3</th>\n",
       "      <td>4</td>\n",
       "      <td>Female</td>\n",
       "      <td>23</td>\n",
       "      <td>16</td>\n",
       "      <td>77</td>\n",
       "    </tr>\n",
       "    <tr>\n",
       "      <th>4</th>\n",
       "      <td>5</td>\n",
       "      <td>Female</td>\n",
       "      <td>31</td>\n",
       "      <td>17</td>\n",
       "      <td>40</td>\n",
       "    </tr>\n",
       "  </tbody>\n",
       "</table>\n",
       "</div>"
      ],
      "text/plain": [
       "   CustomerID  Gender  Age  Annual Income (k$)  Spending Score (1-100)\n",
       "0           1    Male   19                  15                      39\n",
       "1           2    Male   21                  15                      81\n",
       "2           3  Female   20                  16                       6\n",
       "3           4  Female   23                  16                      77\n",
       "4           5  Female   31                  17                      40"
      ]
     },
     "execution_count": 36,
     "metadata": {},
     "output_type": "execute_result"
    }
   ],
   "source": [
    "data.head()"
   ]
  },
  {
   "cell_type": "code",
   "execution_count": 38,
   "id": "ef8032e0",
   "metadata": {},
   "outputs": [],
   "source": [
    "data.drop(columns=['CustomerID','Gender','Age'], inplace=True)"
   ]
  },
  {
   "cell_type": "code",
   "execution_count": 39,
   "id": "b1d24486",
   "metadata": {},
   "outputs": [],
   "source": []
  },
  {
   "cell_type": "code",
   "execution_count": 40,
   "id": "d4c58064",
   "metadata": {},
   "outputs": [
    {
     "data": {
      "text/html": [
       "<div>\n",
       "<style scoped>\n",
       "    .dataframe tbody tr th:only-of-type {\n",
       "        vertical-align: middle;\n",
       "    }\n",
       "\n",
       "    .dataframe tbody tr th {\n",
       "        vertical-align: top;\n",
       "    }\n",
       "\n",
       "    .dataframe thead th {\n",
       "        text-align: right;\n",
       "    }\n",
       "</style>\n",
       "<table border=\"1\" class=\"dataframe\">\n",
       "  <thead>\n",
       "    <tr style=\"text-align: right;\">\n",
       "      <th></th>\n",
       "      <th>Annual Income (k$)</th>\n",
       "      <th>Spending Score (1-100)</th>\n",
       "    </tr>\n",
       "  </thead>\n",
       "  <tbody>\n",
       "    <tr>\n",
       "      <th>0</th>\n",
       "      <td>15</td>\n",
       "      <td>39</td>\n",
       "    </tr>\n",
       "    <tr>\n",
       "      <th>1</th>\n",
       "      <td>15</td>\n",
       "      <td>81</td>\n",
       "    </tr>\n",
       "    <tr>\n",
       "      <th>2</th>\n",
       "      <td>16</td>\n",
       "      <td>6</td>\n",
       "    </tr>\n",
       "    <tr>\n",
       "      <th>3</th>\n",
       "      <td>16</td>\n",
       "      <td>77</td>\n",
       "    </tr>\n",
       "    <tr>\n",
       "      <th>4</th>\n",
       "      <td>17</td>\n",
       "      <td>40</td>\n",
       "    </tr>\n",
       "  </tbody>\n",
       "</table>\n",
       "</div>"
      ],
      "text/plain": [
       "   Annual Income (k$)  Spending Score (1-100)\n",
       "0                  15                      39\n",
       "1                  15                      81\n",
       "2                  16                       6\n",
       "3                  16                      77\n",
       "4                  17                      40"
      ]
     },
     "execution_count": 40,
     "metadata": {},
     "output_type": "execute_result"
    }
   ],
   "source": [
    "data.head()"
   ]
  },
  {
   "cell_type": "code",
   "execution_count": 41,
   "id": "c97368dd",
   "metadata": {},
   "outputs": [],
   "source": [
    "from sklearn.preprocessing import StandardScaler"
   ]
  },
  {
   "cell_type": "code",
   "execution_count": 42,
   "id": "01c016a7",
   "metadata": {},
   "outputs": [],
   "source": [
    "sc = StandardScaler()\n",
    "data_s = sc.fit_transform(data)"
   ]
  },
  {
   "cell_type": "code",
   "execution_count": 43,
   "id": "a04bc053",
   "metadata": {},
   "outputs": [
    {
     "data": {
      "text/plain": [
       "array([[-1.73899919, -0.43480148],\n",
       "       [-1.73899919,  1.19570407],\n",
       "       [-1.70082976, -1.71591298],\n",
       "       [-1.70082976,  1.04041783],\n",
       "       [-1.66266033, -0.39597992],\n",
       "       [-1.66266033,  1.00159627],\n",
       "       [-1.62449091, -1.71591298],\n",
       "       [-1.62449091,  1.70038436],\n",
       "       [-1.58632148, -1.83237767],\n",
       "       [-1.58632148,  0.84631002],\n",
       "       [-1.58632148, -1.4053405 ],\n",
       "       [-1.58632148,  1.89449216],\n",
       "       [-1.54815205, -1.36651894],\n",
       "       [-1.54815205,  1.04041783],\n",
       "       [-1.54815205, -1.44416206],\n",
       "       [-1.54815205,  1.11806095],\n",
       "       [-1.50998262, -0.59008772],\n",
       "       [-1.50998262,  0.61338066],\n",
       "       [-1.43364376, -0.82301709],\n",
       "       [-1.43364376,  1.8556706 ],\n",
       "       [-1.39547433, -0.59008772],\n",
       "       [-1.39547433,  0.88513158],\n",
       "       [-1.3573049 , -1.75473454],\n",
       "       [-1.3573049 ,  0.88513158],\n",
       "       [-1.24279661, -1.4053405 ],\n",
       "       [-1.24279661,  1.23452563],\n",
       "       [-1.24279661, -0.7065524 ],\n",
       "       [-1.24279661,  0.41927286],\n",
       "       [-1.20462718, -0.74537397],\n",
       "       [-1.20462718,  1.42863343],\n",
       "       [-1.16645776, -1.7935561 ],\n",
       "       [-1.16645776,  0.88513158],\n",
       "       [-1.05194947, -1.7935561 ],\n",
       "       [-1.05194947,  1.62274124],\n",
       "       [-1.05194947, -1.4053405 ],\n",
       "       [-1.05194947,  1.19570407],\n",
       "       [-1.01378004, -1.28887582],\n",
       "       [-1.01378004,  0.88513158],\n",
       "       [-0.89927175, -0.93948177],\n",
       "       [-0.89927175,  0.96277471],\n",
       "       [-0.86110232, -0.59008772],\n",
       "       [-0.86110232,  1.62274124],\n",
       "       [-0.82293289, -0.55126616],\n",
       "       [-0.82293289,  0.41927286],\n",
       "       [-0.82293289, -0.86183865],\n",
       "       [-0.82293289,  0.5745591 ],\n",
       "       [-0.78476346,  0.18634349],\n",
       "       [-0.78476346, -0.12422899],\n",
       "       [-0.78476346, -0.3183368 ],\n",
       "       [-0.78476346, -0.3183368 ],\n",
       "       [-0.70842461,  0.06987881],\n",
       "       [-0.70842461,  0.38045129],\n",
       "       [-0.67025518,  0.14752193],\n",
       "       [-0.67025518,  0.38045129],\n",
       "       [-0.67025518, -0.20187212],\n",
       "       [-0.67025518, -0.35715836],\n",
       "       [-0.63208575, -0.00776431],\n",
       "       [-0.63208575, -0.16305055],\n",
       "       [-0.55574689,  0.03105725],\n",
       "       [-0.55574689, -0.16305055],\n",
       "       [-0.55574689,  0.22516505],\n",
       "       [-0.55574689,  0.18634349],\n",
       "       [-0.51757746,  0.06987881],\n",
       "       [-0.51757746,  0.34162973],\n",
       "       [-0.47940803,  0.03105725],\n",
       "       [-0.47940803,  0.34162973],\n",
       "       [-0.47940803, -0.00776431],\n",
       "       [-0.47940803, -0.08540743],\n",
       "       [-0.47940803,  0.34162973],\n",
       "       [-0.47940803, -0.12422899],\n",
       "       [-0.4412386 ,  0.18634349],\n",
       "       [-0.4412386 , -0.3183368 ],\n",
       "       [-0.40306917, -0.04658587],\n",
       "       [-0.40306917,  0.22516505],\n",
       "       [-0.25039146, -0.12422899],\n",
       "       [-0.25039146,  0.14752193],\n",
       "       [-0.25039146,  0.10870037],\n",
       "       [-0.25039146, -0.08540743],\n",
       "       [-0.25039146,  0.06987881],\n",
       "       [-0.25039146, -0.3183368 ],\n",
       "       [-0.25039146,  0.03105725],\n",
       "       [-0.25039146,  0.18634349],\n",
       "       [-0.25039146, -0.35715836],\n",
       "       [-0.25039146, -0.24069368],\n",
       "       [-0.25039146,  0.26398661],\n",
       "       [-0.25039146, -0.16305055],\n",
       "       [-0.13588317,  0.30280817],\n",
       "       [-0.13588317,  0.18634349],\n",
       "       [-0.09771374,  0.38045129],\n",
       "       [-0.09771374, -0.16305055],\n",
       "       [-0.05954431,  0.18634349],\n",
       "       [-0.05954431, -0.35715836],\n",
       "       [-0.02137488, -0.04658587],\n",
       "       [-0.02137488, -0.39597992],\n",
       "       [-0.02137488, -0.3183368 ],\n",
       "       [-0.02137488,  0.06987881],\n",
       "       [-0.02137488, -0.12422899],\n",
       "       [-0.02137488, -0.00776431],\n",
       "       [ 0.01679455, -0.3183368 ],\n",
       "       [ 0.01679455, -0.04658587],\n",
       "       [ 0.05496398, -0.35715836],\n",
       "       [ 0.05496398, -0.08540743],\n",
       "       [ 0.05496398,  0.34162973],\n",
       "       [ 0.05496398,  0.18634349],\n",
       "       [ 0.05496398,  0.22516505],\n",
       "       [ 0.05496398, -0.3183368 ],\n",
       "       [ 0.09313341, -0.00776431],\n",
       "       [ 0.09313341, -0.16305055],\n",
       "       [ 0.09313341, -0.27951524],\n",
       "       [ 0.09313341, -0.08540743],\n",
       "       [ 0.09313341,  0.06987881],\n",
       "       [ 0.09313341,  0.14752193],\n",
       "       [ 0.13130284, -0.3183368 ],\n",
       "       [ 0.13130284, -0.16305055],\n",
       "       [ 0.16947227, -0.08540743],\n",
       "       [ 0.16947227, -0.00776431],\n",
       "       [ 0.16947227, -0.27951524],\n",
       "       [ 0.16947227,  0.34162973],\n",
       "       [ 0.24581112, -0.27951524],\n",
       "       [ 0.24581112,  0.26398661],\n",
       "       [ 0.24581112,  0.22516505],\n",
       "       [ 0.24581112, -0.39597992],\n",
       "       [ 0.32214998,  0.30280817],\n",
       "       [ 0.32214998,  1.58391968],\n",
       "       [ 0.36031941, -0.82301709],\n",
       "       [ 0.36031941,  1.04041783],\n",
       "       [ 0.39848884, -0.59008772],\n",
       "       [ 0.39848884,  1.73920592],\n",
       "       [ 0.39848884, -1.52180518],\n",
       "       [ 0.39848884,  0.96277471],\n",
       "       [ 0.39848884, -1.5994483 ],\n",
       "       [ 0.39848884,  0.96277471],\n",
       "       [ 0.43665827, -0.62890928],\n",
       "       [ 0.43665827,  0.80748846],\n",
       "       [ 0.4748277 , -1.75473454],\n",
       "       [ 0.4748277 ,  1.46745499],\n",
       "       [ 0.4748277 , -1.67709142],\n",
       "       [ 0.4748277 ,  0.88513158],\n",
       "       [ 0.51299713, -1.56062674],\n",
       "       [ 0.51299713,  0.84631002],\n",
       "       [ 0.55116656, -1.75473454],\n",
       "       [ 0.55116656,  1.6615628 ],\n",
       "       [ 0.58933599, -0.39597992],\n",
       "       [ 0.58933599,  1.42863343],\n",
       "       [ 0.62750542, -1.48298362],\n",
       "       [ 0.62750542,  1.81684904],\n",
       "       [ 0.62750542, -0.55126616],\n",
       "       [ 0.62750542,  0.92395314],\n",
       "       [ 0.66567484, -1.09476801],\n",
       "       [ 0.66567484,  1.54509812],\n",
       "       [ 0.66567484, -1.28887582],\n",
       "       [ 0.66567484,  1.46745499],\n",
       "       [ 0.66567484, -1.17241113],\n",
       "       [ 0.66567484,  1.00159627],\n",
       "       [ 0.66567484, -1.32769738],\n",
       "       [ 0.66567484,  1.50627656],\n",
       "       [ 0.66567484, -1.91002079],\n",
       "       [ 0.66567484,  1.07923939],\n",
       "       [ 0.66567484, -1.91002079],\n",
       "       [ 0.66567484,  0.88513158],\n",
       "       [ 0.70384427, -0.59008772],\n",
       "       [ 0.70384427,  1.27334719],\n",
       "       [ 0.78018313, -1.75473454],\n",
       "       [ 0.78018313,  1.6615628 ],\n",
       "       [ 0.93286085, -0.93948177],\n",
       "       [ 0.93286085,  0.96277471],\n",
       "       [ 0.97103028, -1.17241113],\n",
       "       [ 0.97103028,  1.73920592],\n",
       "       [ 1.00919971, -0.90066021],\n",
       "       [ 1.00919971,  0.49691598],\n",
       "       [ 1.00919971, -1.44416206],\n",
       "       [ 1.00919971,  0.96277471],\n",
       "       [ 1.00919971, -1.56062674],\n",
       "       [ 1.00919971,  1.62274124],\n",
       "       [ 1.04736914, -1.44416206],\n",
       "       [ 1.04736914,  1.38981187],\n",
       "       [ 1.04736914, -1.36651894],\n",
       "       [ 1.04736914,  0.72984534],\n",
       "       [ 1.23821628, -1.4053405 ],\n",
       "       [ 1.23821628,  1.54509812],\n",
       "       [ 1.390894  , -0.7065524 ],\n",
       "       [ 1.390894  ,  1.38981187],\n",
       "       [ 1.42906343, -1.36651894],\n",
       "       [ 1.42906343,  1.46745499],\n",
       "       [ 1.46723286, -0.43480148],\n",
       "       [ 1.46723286,  1.81684904],\n",
       "       [ 1.54357172, -1.01712489],\n",
       "       [ 1.54357172,  0.69102378],\n",
       "       [ 1.61991057, -1.28887582],\n",
       "       [ 1.61991057,  1.35099031],\n",
       "       [ 1.61991057, -1.05594645],\n",
       "       [ 1.61991057,  0.72984534],\n",
       "       [ 2.00160487, -1.63826986],\n",
       "       [ 2.00160487,  1.58391968],\n",
       "       [ 2.26879087, -1.32769738],\n",
       "       [ 2.26879087,  1.11806095],\n",
       "       [ 2.49780745, -0.86183865],\n",
       "       [ 2.49780745,  0.92395314],\n",
       "       [ 2.91767117, -1.25005425],\n",
       "       [ 2.91767117,  1.27334719]])"
      ]
     },
     "execution_count": 43,
     "metadata": {},
     "output_type": "execute_result"
    }
   ],
   "source": [
    "data_s"
   ]
  },
  {
   "cell_type": "markdown",
   "id": "6460d140",
   "metadata": {},
   "source": [
    "### PCA (Dimentionality Reduction)"
   ]
  },
  {
   "cell_type": "code",
   "execution_count": 44,
   "id": "91ae4e28",
   "metadata": {},
   "outputs": [],
   "source": [
    "from sklearn.decomposition import PCA"
   ]
  },
  {
   "cell_type": "code",
   "execution_count": 45,
   "id": "3be33650",
   "metadata": {},
   "outputs": [],
   "source": [
    "pca = PCA(n_components=2)"
   ]
  },
  {
   "cell_type": "code",
   "execution_count": 46,
   "id": "c25dda58",
   "metadata": {},
   "outputs": [],
   "source": [
    "pca_data = pca.fit_transform(data_s)"
   ]
  },
  {
   "cell_type": "code",
   "execution_count": 47,
   "id": "fa5077c2",
   "metadata": {},
   "outputs": [
    {
     "data": {
      "text/plain": [
       "array([[-1.53710920e+00, -9.22207047e-01],\n",
       "       [-3.84167666e-01, -2.07514858e+00],\n",
       "       [-2.41600197e+00,  1.06654468e-02],\n",
       "       [-4.66981759e-01, -1.93835476e+00],\n",
       "       [-1.45567848e+00, -8.95678311e-01],\n",
       "       [-4.67442886e-01, -1.88391391e+00],\n",
       "       [-2.36202224e+00,  6.46451712e-02],\n",
       "       [ 5.36647757e-02, -2.35104185e+00],\n",
       "       [-2.41738535e+00,  1.73988000e-01],\n",
       "       [-5.23267116e-01, -1.72013023e+00],\n",
       "       [-2.11542447e+00, -1.27972877e-01],\n",
       "       [ 2.17909582e-01, -2.46130693e+00],\n",
       "       [-2.06098362e+00, -1.28434004e-01],\n",
       "       [-3.59022310e-01, -1.83039531e+00],\n",
       "       [-2.11588560e+00, -7.35320262e-02],\n",
       "       [-3.04120332e-01, -1.88529729e+00],\n",
       "       [-1.48497398e+00, -6.50463918e-01],\n",
       "       [-6.33993325e-01, -1.50144457e+00],\n",
       "       [-1.59570019e+00, -4.31778261e-01],\n",
       "       [ 2.98418042e-01, -2.32589649e+00],\n",
       "       [-1.40400439e+00, -5.69494332e-01],\n",
       "       [-3.60866817e-01, -1.61263191e+00],\n",
       "       [-2.20054420e+00,  2.81025195e-01],\n",
       "       [-3.33876954e-01, -1.58564205e+00],\n",
       "       [-1.87251571e+00,  1.14935883e-01],\n",
       "       [-5.84846831e-03, -1.75173136e+00],\n",
       "       [-1.37839791e+00, -3.79181916e-01],\n",
       "       [-5.82319234e-01, -1.17526059e+00],\n",
       "       [-1.37885904e+00, -3.24741065e-01],\n",
       "       [ 1.58396338e-01, -1.86199644e+00],\n",
       "       [-2.09304587e+00,  4.43425495e-01],\n",
       "       [-1.98927643e-01, -1.45069273e+00],\n",
       "       [-2.01207629e+00,  5.24395082e-01],\n",
       "       [ 4.03610731e-01, -1.89129194e+00],\n",
       "       [-1.73756640e+00,  2.49885194e-01],\n",
       "       [ 1.01649854e-01, -1.58933106e+00],\n",
       "       [-1.62822357e+00,  1.94522089e-01],\n",
       "       [-9.09681946e-02, -1.34273329e+00],\n",
       "       [-1.30019508e+00,  2.84327764e-02],\n",
       "       [ 4.49033697e-02, -1.31666568e+00],\n",
       "       [-1.02614632e+00, -1.91636261e-01],\n",
       "       [ 5.38560042e-01, -1.75634262e+00],\n",
       "       [-9.71705471e-01, -1.92097388e-01],\n",
       "       [-2.85430750e-01, -8.78372108e-01],\n",
       "       [-1.19131338e+00,  2.75105231e-02],\n",
       "       [-1.75626794e-01, -9.88176064e-01],\n",
       "       [-4.23146820e-01, -6.86676313e-01],\n",
       "       [-6.42754731e-01, -4.67068403e-01],\n",
       "       [-7.80009675e-01, -3.29813458e-01],\n",
       "       [-7.80009675e-01, -3.29813458e-01],\n",
       "       [-4.51520063e-01, -5.50343622e-01],\n",
       "       [-2.31912152e-01, -7.69951533e-01],\n",
       "       [-3.69628223e-01, -5.78255738e-01],\n",
       "       [-2.04922290e-01, -7.42961671e-01],\n",
       "       [-6.16687122e-01, -3.31196838e-01],\n",
       "       [-7.26491078e-01, -2.21392883e-01],\n",
       "       [-4.52442316e-01, -4.41461920e-01],\n",
       "       [-5.62246271e-01, -3.31657965e-01],\n",
       "       [-3.71011603e-01, -4.14933185e-01],\n",
       "       [-5.08266547e-01, -2.77678241e-01],\n",
       "       [-2.33756658e-01, -5.52188129e-01],\n",
       "       [-2.61207647e-01, -5.24737140e-01],\n",
       "       [-3.16570752e-01, -4.15394311e-01],\n",
       "       [-1.24413830e-01, -6.07551233e-01],\n",
       "       [-3.17031878e-01, -3.60953460e-01],\n",
       "       [-9.74239675e-02, -5.80561371e-01],\n",
       "       [-3.44482867e-01, -3.33502471e-01],\n",
       "       [-3.99384845e-01, -2.78600494e-01],\n",
       "       [-9.74239675e-02, -5.80561371e-01],\n",
       "       [-4.26835834e-01, -2.51149505e-01],\n",
       "       [-1.80238061e-01, -4.43767553e-01],\n",
       "       [-5.37100915e-01, -8.69046986e-02],\n",
       "       [-3.17954131e-01, -2.52071758e-01],\n",
       "       [-1.25797210e-01, -4.44228680e-01],\n",
       "       [-2.64896660e-01, -8.92103318e-02],\n",
       "       [-7.27397385e-02, -2.81367254e-01],\n",
       "       [-1.00190727e-01, -2.53916265e-01],\n",
       "       [-2.37445671e-01, -1.16661321e-01],\n",
       "       [-1.27641716e-01, -2.26465276e-01],\n",
       "       [-4.02151604e-01,  4.80446124e-02],\n",
       "       [-1.55092705e-01, -1.99014287e-01],\n",
       "       [-4.52887496e-02, -3.08818242e-01],\n",
       "       [-4.29602593e-01,  7.54956012e-02],\n",
       "       [-3.47249627e-01, -6.85736526e-03],\n",
       "       [ 9.61322804e-03, -3.63720220e-01],\n",
       "       [-2.92347649e-01, -6.17593429e-02],\n",
       "       [ 1.18033803e-01, -3.10201622e-01],\n",
       "       [ 3.56808370e-02, -2.27848656e-01],\n",
       "       [ 1.99925643e-01, -3.38113738e-01],\n",
       "       [-1.84388200e-01,  4.62001059e-02],\n",
       "       [ 8.96605614e-02, -1.73868931e-01],\n",
       "       [-2.94653282e-01,  2.10444912e-01],\n",
       "       [-4.80555094e-02,  1.78268638e-02],\n",
       "       [-2.95114409e-01,  2.64885763e-01],\n",
       "       [-2.40212431e-01,  2.09983786e-01],\n",
       "       [ 3.42974571e-02, -6.45261027e-02],\n",
       "       [-1.02957487e-01,  7.27288414e-02],\n",
       "       [-2.06045206e-02, -9.62412507e-03],\n",
       "       [-2.13222569e-01,  2.36973648e-01],\n",
       "       [-2.10656472e-02,  4.48167260e-02],\n",
       "       [-2.13683696e-01,  2.91414499e-01],\n",
       "       [-2.15267739e-02,  9.92575770e-02],\n",
       "       [ 2.80434103e-01, -2.02703300e-01],\n",
       "       [ 1.70630148e-01, -9.28993448e-02],\n",
       "       [ 1.98081137e-01, -1.20350334e-01],\n",
       "       [-1.86232707e-01,  2.63963510e-01],\n",
       "       [ 6.03650660e-02,  7.13454615e-02],\n",
       "       [-4.94388893e-02,  1.81149417e-01],\n",
       "       [-1.31791856e-01,  2.63502383e-01],\n",
       "       [ 5.46308833e-03,  1.26247439e-01],\n",
       "       [ 1.15267044e-01,  1.64434839e-02],\n",
       "       [ 1.70169021e-01, -3.84584938e-02],\n",
       "       [-1.32252982e-01,  3.17943234e-01],\n",
       "       [-2.24490271e-02,  2.08139279e-01],\n",
       "       [ 5.94428127e-02,  1.80227164e-01],\n",
       "       [ 1.14344790e-01,  1.25325186e-01],\n",
       "       [-7.78121314e-02,  3.17482108e-01],\n",
       "       [ 3.61403690e-01, -1.21733714e-01],\n",
       "       [-2.38324070e-02,  3.71461832e-01],\n",
       "       [ 3.60481437e-01, -1.28520115e-02],\n",
       "       [ 3.33030448e-01,  1.45989773e-02],\n",
       "       [-1.06185374e-01,  4.53814799e-01],\n",
       "       [ 4.41912150e-01,  1.36767241e-02],\n",
       "       [ 1.34779478e+00, -8.92205908e-01],\n",
       "       [-3.27176664e-01,  8.36745262e-01],\n",
       "       [ 9.90470800e-01, -4.80902202e-01],\n",
       "       [-1.35480869e-01,  6.99029192e-01],\n",
       "       [ 1.51157846e+00, -9.48030138e-01],\n",
       "       [-7.94304601e-01,  1.35785292e+00],\n",
       "       [ 9.62558684e-01, -3.99010362e-01],\n",
       "       [-8.49206579e-01,  1.41275490e+00],\n",
       "       [ 9.62558684e-01, -3.99010362e-01],\n",
       "       [-1.35941996e-01,  7.53470043e-01],\n",
       "       [ 8.79744591e-01, -2.62216544e-01],\n",
       "       [-9.05030810e-01,  1.57653858e+00],\n",
       "       [ 1.37340126e+00, -7.01893492e-01],\n",
       "       [-8.50128832e-01,  1.52163660e+00],\n",
       "       [ 9.61636431e-01, -2.90128660e-01],\n",
       "       [-7.40786003e-01,  1.46627350e+00],\n",
       "       [ 9.61175305e-01, -2.35687809e-01],\n",
       "       [-8.51051085e-01,  1.63051831e+00],\n",
       "       [ 1.56463593e+00, -7.85168712e-01],\n",
       "       [ 1.36723386e-01,  6.96723559e-01],\n",
       "       [ 1.42691986e+00, -5.93472917e-01],\n",
       "       [-6.04914439e-01,  1.49234111e+00],\n",
       "       [ 1.72841961e+00, -8.40992943e-01],\n",
       "       [ 5.39092931e-02,  8.33517376e-01],\n",
       "       [ 1.09704687e+00, -2.09620200e-01],\n",
       "       [-3.03414688e-01,  1.24482108e+00],\n",
       "       [ 1.56325255e+00, -6.21846159e-01],\n",
       "       [-4.40669633e-01,  1.38207603e+00],\n",
       "       [ 1.50835057e+00, -5.66944181e-01],\n",
       "       [-3.58316666e-01,  1.29972306e+00],\n",
       "       [ 1.17893871e+00, -2.37532315e-01],\n",
       "       [-4.68120621e-01,  1.40952701e+00],\n",
       "       [ 1.53580156e+00, -5.94395170e-01],\n",
       "       [-8.79885454e-01,  1.82129185e+00],\n",
       "       [ 1.23384069e+00, -2.92434293e-01],\n",
       "       [-8.79885454e-01,  1.82129185e+00],\n",
       "       [ 1.09658574e+00, -1.55179349e-01],\n",
       "       [ 8.04380287e-02,  9.14948089e-01],\n",
       "       [ 1.39808549e+00, -4.02699375e-01],\n",
       "       [-6.89111912e-01,  1.79245748e+00],\n",
       "       [ 1.72657511e+00, -6.23229539e-01],\n",
       "       [-4.68169761e-03,  1.32394616e+00],\n",
       "       [ 1.34041676e+00, -2.11522909e-02],\n",
       "       [-1.42397768e-01,  1.51564196e+00],\n",
       "       [ 1.91642639e+00, -5.43182205e-01],\n",
       "       [ 7.67490156e-02,  1.35047490e+00],\n",
       "       [ 1.06498461e+00,  3.62239300e-01],\n",
       "       [-3.07564828e-01,  1.73478874e+00],\n",
       "       [ 1.39439648e+00,  3.28274335e-02],\n",
       "       [-3.89917795e-01,  1.81714171e+00],\n",
       "       [ 1.86106329e+00, -4.33839377e-01],\n",
       "       [-2.80574966e-01,  1.76177860e+00],\n",
       "       [ 1.72334722e+00, -2.42143582e-01],\n",
       "       [-2.25672988e-01,  1.70687663e+00],\n",
       "       [ 1.25668041e+00,  2.24523229e-01],\n",
       "       [-1.18174666e-01,  1.86927693e+00],\n",
       "       [ 1.96810049e+00, -2.16998226e-01],\n",
       "       [ 4.83902582e-01,  1.48311858e+00],\n",
       "       [ 1.96625598e+00,  7.65178312e-04],\n",
       "       [ 4.42256338e-02,  1.97677525e+00],\n",
       "       [ 2.04814782e+00, -2.71469372e-02],\n",
       "       [ 7.30039228e-01,  1.34494138e+00],\n",
       "       [ 2.32219658e+00, -2.47215974e-01],\n",
       "       [ 3.72254120e-01,  1.81068593e+00],\n",
       "       [ 1.58009763e+00,  6.02842426e-01],\n",
       "       [ 2.34076922e-01,  2.05682258e+00],\n",
       "       [ 2.10074416e+00,  1.90155340e-01],\n",
       "       [ 3.98782856e-01,  1.89211665e+00],\n",
       "       [ 1.66152834e+00,  6.29371162e-01],\n",
       "       [ 2.56916645e-01,  2.57378010e+00],\n",
       "       [ 2.53534872e+00,  2.95348029e-01],\n",
       "       [ 6.65453591e-01,  2.54310123e+00],\n",
       "       [ 2.39486589e+00,  8.13688931e-01],\n",
       "       [ 1.15680463e+00,  2.37562853e+00],\n",
       "       [ 2.41955012e+00,  1.11288305e+00],\n",
       "       [ 1.17918323e+00,  2.94702691e+00],\n",
       "       [ 2.96349750e+00,  1.16271263e+00]])"
      ]
     },
     "execution_count": 47,
     "metadata": {},
     "output_type": "execute_result"
    }
   ],
   "source": [
    "pca_data"
   ]
  },
  {
   "cell_type": "code",
   "execution_count": 48,
   "id": "8774cd9f",
   "metadata": {},
   "outputs": [
    {
     "data": {
      "text/plain": [
       "array([0.50495142, 0.49504858])"
      ]
     },
     "execution_count": 48,
     "metadata": {},
     "output_type": "execute_result"
    }
   ],
   "source": [
    "pca.explained_variance_ratio_"
   ]
  },
  {
   "cell_type": "code",
   "execution_count": 49,
   "id": "2db78aea",
   "metadata": {},
   "outputs": [
    {
     "data": {
      "image/png": "[encoded data removed]",
      "text/plain": [
       "<Figure size 432x288 with 1 Axes>"
      ]
     },
     "metadata": {
      "needs_background": "light"
     },
     "output_type": "display_data"
    }
   ],
   "source": [
    "var = pca.explained_variance_ratio_\n",
    "pc_val = np.arange(pca.n_components)+1\n",
    "plt.plot(pc_val, var, 'o-', linewidth = 2 , color='r')\n",
    "plt.bar(pc_val,var)\n",
    "plt.xticks([1,2])\n",
    "plt.xlabel('Principle components')\n",
    "plt.ylabel('Explained Variance')\n",
    "plt.show()"
   ]
  },
  {
   "cell_type": "code",
   "execution_count": 50,
   "id": "d885544f",
   "metadata": {},
   "outputs": [
    {
     "data": {
      "text/html": [
       "<div>\n",
       "<style scoped>\n",
       "    .dataframe tbody tr th:only-of-type {\n",
       "        vertical-align: middle;\n",
       "    }\n",
       "\n",
       "    .dataframe tbody tr th {\n",
       "        vertical-align: top;\n",
       "    }\n",
       "\n",
       "    .dataframe thead th {\n",
       "        text-align: right;\n",
       "    }\n",
       "</style>\n",
       "<table border=\"1\" class=\"dataframe\">\n",
       "  <thead>\n",
       "    <tr style=\"text-align: right;\">\n",
       "      <th></th>\n",
       "      <th>Annual Income (k$)</th>\n",
       "      <th>Spending Score (1-100)</th>\n",
       "    </tr>\n",
       "  </thead>\n",
       "  <tbody>\n",
       "    <tr>\n",
       "      <th>0</th>\n",
       "      <td>15</td>\n",
       "      <td>39</td>\n",
       "    </tr>\n",
       "    <tr>\n",
       "      <th>1</th>\n",
       "      <td>15</td>\n",
       "      <td>81</td>\n",
       "    </tr>\n",
       "    <tr>\n",
       "      <th>2</th>\n",
       "      <td>16</td>\n",
       "      <td>6</td>\n",
       "    </tr>\n",
       "    <tr>\n",
       "      <th>3</th>\n",
       "      <td>16</td>\n",
       "      <td>77</td>\n",
       "    </tr>\n",
       "    <tr>\n",
       "      <th>4</th>\n",
       "      <td>17</td>\n",
       "      <td>40</td>\n",
       "    </tr>\n",
       "    <tr>\n",
       "      <th>...</th>\n",
       "      <td>...</td>\n",
       "      <td>...</td>\n",
       "    </tr>\n",
       "    <tr>\n",
       "      <th>195</th>\n",
       "      <td>120</td>\n",
       "      <td>79</td>\n",
       "    </tr>\n",
       "    <tr>\n",
       "      <th>196</th>\n",
       "      <td>126</td>\n",
       "      <td>28</td>\n",
       "    </tr>\n",
       "    <tr>\n",
       "      <th>197</th>\n",
       "      <td>126</td>\n",
       "      <td>74</td>\n",
       "    </tr>\n",
       "    <tr>\n",
       "      <th>198</th>\n",
       "      <td>137</td>\n",
       "      <td>18</td>\n",
       "    </tr>\n",
       "    <tr>\n",
       "      <th>199</th>\n",
       "      <td>137</td>\n",
       "      <td>83</td>\n",
       "    </tr>\n",
       "  </tbody>\n",
       "</table>\n",
       "<p>200 rows × 2 columns</p>\n",
       "</div>"
      ],
      "text/plain": [
       "     Annual Income (k$)  Spending Score (1-100)\n",
       "0                    15                      39\n",
       "1                    15                      81\n",
       "2                    16                       6\n",
       "3                    16                      77\n",
       "4                    17                      40\n",
       "..                  ...                     ...\n",
       "195                 120                      79\n",
       "196                 126                      28\n",
       "197                 126                      74\n",
       "198                 137                      18\n",
       "199                 137                      83\n",
       "\n",
       "[200 rows x 2 columns]"
      ]
     },
     "execution_count": 50,
     "metadata": {},
     "output_type": "execute_result"
    }
   ],
   "source": [
    "data"
   ]
  },
  {
   "cell_type": "markdown",
   "id": "653960c7",
   "metadata": {},
   "source": [
    "# KMeans Clustering"
   ]
  },
  {
   "cell_type": "code",
   "execution_count": 51,
   "id": "4248fa6e",
   "metadata": {},
   "outputs": [],
   "source": [
    "from sklearn.cluster import KMeans"
   ]
  },
  {
   "cell_type": "code",
   "execution_count": 54,
   "id": "2d12f1d8",
   "metadata": {},
   "outputs": [],
   "source": [
    "ks = range(1,6)\n",
    "inertia = []\n",
    "for k in ks:\n",
    "    model= KMeans(n_clusters=k,init='k-means++' )\n",
    "    model.fit(data_s)\n",
    "    inertia.append(model.inertia_)"
   ]
  },
  {
   "cell_type": "code",
   "execution_count": 55,
   "id": "816992a3",
   "metadata": {},
   "outputs": [
    {
     "data": {
      "image/png": "[encoded data removed]",
      "text/plain": [
       "<Figure size 432x288 with 1 Axes>"
      ]
     },
     "metadata": {
      "needs_background": "light"
     },
     "output_type": "display_data"
    }
   ],
   "source": [
    "plt.plot(ks,inertia,'-o')\n",
    "plt.xlabel('No of clusters')\n",
    "plt.ylabel('WCSS')\n",
    "plt.xticks(ks)\n",
    "plt.show()"
   ]
  },
  {
   "cell_type": "code",
   "execution_count": 56,
   "id": "4e67d866",
   "metadata": {},
   "outputs": [],
   "source": [
    "model_f  = KMeans(n_clusters=3)"
   ]
  },
  {
   "cell_type": "code",
   "execution_count": 57,
   "id": "66402d5b",
   "metadata": {},
   "outputs": [],
   "source": [
    "label = model_f.fit_predict(data_s)"
   ]
  },
  {
   "cell_type": "code",
   "execution_count": 58,
   "id": "5cf09ac1",
   "metadata": {},
   "outputs": [
    {
     "data": {
      "text/plain": [
       "array([0, 0, 0, 0, 0, 0, 0, 0, 0, 0, 0, 0, 0, 0, 0, 0, 0, 0, 0, 0, 0, 0,\n",
       "       0, 0, 0, 0, 0, 0, 0, 0, 0, 0, 0, 0, 0, 0, 0, 0, 0, 0, 0, 0, 0, 0,\n",
       "       0, 0, 0, 0, 0, 0, 0, 0, 0, 0, 0, 0, 0, 0, 0, 0, 0, 0, 0, 0, 0, 0,\n",
       "       0, 0, 0, 0, 0, 0, 0, 0, 0, 0, 0, 0, 0, 0, 0, 0, 0, 0, 0, 0, 0, 0,\n",
       "       0, 0, 0, 0, 0, 0, 0, 0, 0, 0, 0, 0, 0, 0, 0, 0, 0, 0, 0, 0, 0, 0,\n",
       "       0, 0, 0, 0, 0, 0, 0, 0, 0, 0, 0, 0, 0, 1, 2, 1, 2, 1, 2, 1, 2, 1,\n",
       "       2, 1, 2, 1, 2, 1, 2, 1, 2, 1, 2, 1, 2, 1, 2, 1, 2, 1, 2, 1, 2, 1,\n",
       "       2, 1, 2, 1, 2, 1, 2, 1, 2, 1, 2, 1, 2, 1, 2, 1, 2, 1, 2, 1, 2, 1,\n",
       "       2, 1, 2, 1, 2, 1, 2, 1, 2, 1, 2, 1, 2, 1, 2, 1, 2, 1, 2, 1, 2, 1,\n",
       "       2, 1])"
      ]
     },
     "execution_count": 58,
     "metadata": {},
     "output_type": "execute_result"
    }
   ],
   "source": [
    "label"
   ]
  },
  {
   "cell_type": "code",
   "execution_count": 59,
   "id": "3f2793a8",
   "metadata": {},
   "outputs": [],
   "source": [
    "data_fin = pd.read_csv('Mall_Customers.csv')\n",
    "data_fin['label'] = label\n",
    "del data_fin['CustomerID']"
   ]
  },
  {
   "cell_type": "code",
   "execution_count": 60,
   "id": "a8b3831b",
   "metadata": {},
   "outputs": [
    {
     "data": {
      "text/html": [
       "<div>\n",
       "<style scoped>\n",
       "    .dataframe tbody tr th:only-of-type {\n",
       "        vertical-align: middle;\n",
       "    }\n",
       "\n",
       "    .dataframe tbody tr th {\n",
       "        vertical-align: top;\n",
       "    }\n",
       "\n",
       "    .dataframe thead th {\n",
       "        text-align: right;\n",
       "    }\n",
       "</style>\n",
       "<table border=\"1\" class=\"dataframe\">\n",
       "  <thead>\n",
       "    <tr style=\"text-align: right;\">\n",
       "      <th></th>\n",
       "      <th>Gender</th>\n",
       "      <th>Age</th>\n",
       "      <th>Annual Income (k$)</th>\n",
       "      <th>Spending Score (1-100)</th>\n",
       "      <th>label</th>\n",
       "    </tr>\n",
       "  </thead>\n",
       "  <tbody>\n",
       "    <tr>\n",
       "      <th>0</th>\n",
       "      <td>Male</td>\n",
       "      <td>19</td>\n",
       "      <td>15</td>\n",
       "      <td>39</td>\n",
       "      <td>0</td>\n",
       "    </tr>\n",
       "    <tr>\n",
       "      <th>1</th>\n",
       "      <td>Male</td>\n",
       "      <td>21</td>\n",
       "      <td>15</td>\n",
       "      <td>81</td>\n",
       "      <td>0</td>\n",
       "    </tr>\n",
       "    <tr>\n",
       "      <th>2</th>\n",
       "      <td>Female</td>\n",
       "      <td>20</td>\n",
       "      <td>16</td>\n",
       "      <td>6</td>\n",
       "      <td>0</td>\n",
       "    </tr>\n",
       "    <tr>\n",
       "      <th>3</th>\n",
       "      <td>Female</td>\n",
       "      <td>23</td>\n",
       "      <td>16</td>\n",
       "      <td>77</td>\n",
       "      <td>0</td>\n",
       "    </tr>\n",
       "    <tr>\n",
       "      <th>4</th>\n",
       "      <td>Female</td>\n",
       "      <td>31</td>\n",
       "      <td>17</td>\n",
       "      <td>40</td>\n",
       "      <td>0</td>\n",
       "    </tr>\n",
       "  </tbody>\n",
       "</table>\n",
       "</div>"
      ],
      "text/plain": [
       "   Gender  Age  Annual Income (k$)  Spending Score (1-100)  label\n",
       "0    Male   19                  15                      39      0\n",
       "1    Male   21                  15                      81      0\n",
       "2  Female   20                  16                       6      0\n",
       "3  Female   23                  16                      77      0\n",
       "4  Female   31                  17                      40      0"
      ]
     },
     "execution_count": 60,
     "metadata": {},
     "output_type": "execute_result"
    }
   ],
   "source": [
    "data_fin.head()"
   ]
  },
  {
   "cell_type": "code",
   "execution_count": 61,
   "id": "d59de0c0",
   "metadata": {},
   "outputs": [
    {
     "data": {
      "text/html": [
       "<div>\n",
       "<style scoped>\n",
       "    .dataframe tbody tr th:only-of-type {\n",
       "        vertical-align: middle;\n",
       "    }\n",
       "\n",
       "    .dataframe tbody tr th {\n",
       "        vertical-align: top;\n",
       "    }\n",
       "\n",
       "    .dataframe thead th {\n",
       "        text-align: right;\n",
       "    }\n",
       "</style>\n",
       "<table border=\"1\" class=\"dataframe\">\n",
       "  <thead>\n",
       "    <tr style=\"text-align: right;\">\n",
       "      <th></th>\n",
       "      <th>0</th>\n",
       "      <th>1</th>\n",
       "      <th>label</th>\n",
       "    </tr>\n",
       "  </thead>\n",
       "  <tbody>\n",
       "    <tr>\n",
       "      <th>0</th>\n",
       "      <td>-1.738999</td>\n",
       "      <td>-0.434801</td>\n",
       "      <td>0</td>\n",
       "    </tr>\n",
       "    <tr>\n",
       "      <th>1</th>\n",
       "      <td>-1.738999</td>\n",
       "      <td>1.195704</td>\n",
       "      <td>0</td>\n",
       "    </tr>\n",
       "    <tr>\n",
       "      <th>2</th>\n",
       "      <td>-1.700830</td>\n",
       "      <td>-1.715913</td>\n",
       "      <td>0</td>\n",
       "    </tr>\n",
       "    <tr>\n",
       "      <th>3</th>\n",
       "      <td>-1.700830</td>\n",
       "      <td>1.040418</td>\n",
       "      <td>0</td>\n",
       "    </tr>\n",
       "    <tr>\n",
       "      <th>4</th>\n",
       "      <td>-1.662660</td>\n",
       "      <td>-0.395980</td>\n",
       "      <td>0</td>\n",
       "    </tr>\n",
       "    <tr>\n",
       "      <th>...</th>\n",
       "      <td>...</td>\n",
       "      <td>...</td>\n",
       "      <td>...</td>\n",
       "    </tr>\n",
       "    <tr>\n",
       "      <th>195</th>\n",
       "      <td>2.268791</td>\n",
       "      <td>1.118061</td>\n",
       "      <td>1</td>\n",
       "    </tr>\n",
       "    <tr>\n",
       "      <th>196</th>\n",
       "      <td>2.497807</td>\n",
       "      <td>-0.861839</td>\n",
       "      <td>2</td>\n",
       "    </tr>\n",
       "    <tr>\n",
       "      <th>197</th>\n",
       "      <td>2.497807</td>\n",
       "      <td>0.923953</td>\n",
       "      <td>1</td>\n",
       "    </tr>\n",
       "    <tr>\n",
       "      <th>198</th>\n",
       "      <td>2.917671</td>\n",
       "      <td>-1.250054</td>\n",
       "      <td>2</td>\n",
       "    </tr>\n",
       "    <tr>\n",
       "      <th>199</th>\n",
       "      <td>2.917671</td>\n",
       "      <td>1.273347</td>\n",
       "      <td>1</td>\n",
       "    </tr>\n",
       "  </tbody>\n",
       "</table>\n",
       "<p>200 rows × 3 columns</p>\n",
       "</div>"
      ],
      "text/plain": [
       "            0         1  label\n",
       "0   -1.738999 -0.434801      0\n",
       "1   -1.738999  1.195704      0\n",
       "2   -1.700830 -1.715913      0\n",
       "3   -1.700830  1.040418      0\n",
       "4   -1.662660 -0.395980      0\n",
       "..        ...       ...    ...\n",
       "195  2.268791  1.118061      1\n",
       "196  2.497807 -0.861839      2\n",
       "197  2.497807  0.923953      1\n",
       "198  2.917671 -1.250054      2\n",
       "199  2.917671  1.273347      1\n",
       "\n",
       "[200 rows x 3 columns]"
      ]
     },
     "execution_count": 61,
     "metadata": {},
     "output_type": "execute_result"
    }
   ],
   "source": [
    "data_s = pd.DataFrame(data_s)\n",
    "data_s['label']=label\n",
    "data_s"
   ]
  },
  {
   "cell_type": "code",
   "execution_count": 65,
   "id": "9cab8920",
   "metadata": {},
   "outputs": [
    {
     "data": {
      "text/plain": [
       "<matplotlib.collections.PathCollection at 0x243d3171a30>"
      ]
     },
     "execution_count": 65,
     "metadata": {},
     "output_type": "execute_result"
    },
    {
     "data": {
      "image/png": "[encoded data removed]",
      "text/plain": [
       "<Figure size 432x288 with 1 Axes>"
      ]
     },
     "metadata": {
      "needs_background": "light"
     },
     "output_type": "display_data"
    }
   ],
   "source": [
    "sns.scatterplot(x=data_s[data_s['label']==0][0], y=data_s[data_s['label']==0][1],color='yellow', label='cluster1',s=50)\n",
    "sns.scatterplot(x=data_s[data_s['label']==1][0], y=data_s[data_s['label']==1][1],color='blue', label='cluster2',s=50)\n",
    "sns.scatterplot(x=data_s[data_s['label']==2][0], y=data_s[data_s['label']==2][1],color='green', label='cluster3',s=50)\n",
    "plt.scatter(x=model_f.cluster_centers_[:,0],y=model_f.cluster_centers_[:,1], color='r', s =75)"
   ]
  },
  {
   "cell_type": "code",
   "execution_count": 66,
   "id": "370cf661",
   "metadata": {},
   "outputs": [
    {
     "data": {
      "text/plain": [
       "array([[-0.62618966, -0.01439238],\n",
       "       [ 0.99158305,  1.23950275],\n",
       "       [ 1.00919971, -1.22553537]])"
      ]
     },
     "execution_count": 66,
     "metadata": {},
     "output_type": "execute_result"
    }
   ],
   "source": [
    "model_f.cluster_centers_"
   ]
  },
  {
   "cell_type": "code",
   "execution_count": 68,
   "id": "a819f518",
   "metadata": {},
   "outputs": [
    {
     "data": {
      "text/plain": [
       "0.46658474419000145"
      ]
     },
     "execution_count": 68,
     "metadata": {},
     "output_type": "execute_result"
    }
   ],
   "source": [
    "from sklearn.metrics import silhouette_score\n",
    "silhouette_score(data_s.iloc[:,[0,1]],data_s['label'])"
   ]
  },
  {
   "cell_type": "markdown",
   "id": "c57b94e6",
   "metadata": {},
   "source": [
    "# Hierarchical Clusterining"
   ]
  },
  {
   "cell_type": "code",
   "execution_count": 69,
   "id": "e1924271",
   "metadata": {},
   "outputs": [],
   "source": [
    "import scipy.cluster.hierarchy as sch"
   ]
  },
  {
   "cell_type": "code",
   "execution_count": 71,
   "id": "fb751e32",
   "metadata": {},
   "outputs": [
    {
     "data": {
      "image/png": "[encoded data removed]",
      "text/plain": [
       "<Figure size 1224x720 with 1 Axes>"
      ]
     },
     "metadata": {
      "needs_background": "light"
     },
     "output_type": "display_data"
    }
   ],
   "source": [
    "plt.figure(figsize=(17,10))\n",
    "sch.dendrogram(sch.linkage(data_s.iloc[:,[0,1]].values, method='ward'))\n",
    "plt.axhline(y=8, color='r', linestyle='--')\n",
    "plt.show()"
   ]
  },
  {
   "cell_type": "code",
   "execution_count": 72,
   "id": "e777e0ed",
   "metadata": {},
   "outputs": [],
   "source": [
    "from sklearn.cluster import AgglomerativeClustering"
   ]
  },
  {
   "cell_type": "code",
   "execution_count": 73,
   "id": "914c494b",
   "metadata": {},
   "outputs": [],
   "source": [
    "X = data_s.iloc[:,[0,1]]\n",
    "agglo_model = AgglomerativeClustering(n_clusters=5)"
   ]
  },
  {
   "cell_type": "code",
   "execution_count": 74,
   "id": "2243c1aa",
   "metadata": {},
   "outputs": [
    {
     "data": {
      "text/plain": [
       "AgglomerativeClustering(n_clusters=5)"
      ]
     },
     "execution_count": 74,
     "metadata": {},
     "output_type": "execute_result"
    }
   ],
   "source": [
    "agglo_model.fit(X)"
   ]
  },
  {
   "cell_type": "code",
   "execution_count": 75,
   "id": "1581dad7",
   "metadata": {},
   "outputs": [],
   "source": [
    "X['Agglo_label'] = agglo_model.fit_predict(X)"
   ]
  },
  {
   "cell_type": "code",
   "execution_count": 76,
   "id": "b4815f01",
   "metadata": {},
   "outputs": [
    {
     "data": {
      "text/html": [
       "<div>\n",
       "<style scoped>\n",
       "    .dataframe tbody tr th:only-of-type {\n",
       "        vertical-align: middle;\n",
       "    }\n",
       "\n",
       "    .dataframe tbody tr th {\n",
       "        vertical-align: top;\n",
       "    }\n",
       "\n",
       "    .dataframe thead th {\n",
       "        text-align: right;\n",
       "    }\n",
       "</style>\n",
       "<table border=\"1\" class=\"dataframe\">\n",
       "  <thead>\n",
       "    <tr style=\"text-align: right;\">\n",
       "      <th></th>\n",
       "      <th>0</th>\n",
       "      <th>1</th>\n",
       "      <th>Agglo_label</th>\n",
       "    </tr>\n",
       "  </thead>\n",
       "  <tbody>\n",
       "    <tr>\n",
       "      <th>0</th>\n",
       "      <td>-1.738999</td>\n",
       "      <td>-0.434801</td>\n",
       "      <td>4</td>\n",
       "    </tr>\n",
       "    <tr>\n",
       "      <th>1</th>\n",
       "      <td>-1.738999</td>\n",
       "      <td>1.195704</td>\n",
       "      <td>3</td>\n",
       "    </tr>\n",
       "    <tr>\n",
       "      <th>2</th>\n",
       "      <td>-1.700830</td>\n",
       "      <td>-1.715913</td>\n",
       "      <td>4</td>\n",
       "    </tr>\n",
       "    <tr>\n",
       "      <th>3</th>\n",
       "      <td>-1.700830</td>\n",
       "      <td>1.040418</td>\n",
       "      <td>3</td>\n",
       "    </tr>\n",
       "    <tr>\n",
       "      <th>4</th>\n",
       "      <td>-1.662660</td>\n",
       "      <td>-0.395980</td>\n",
       "      <td>4</td>\n",
       "    </tr>\n",
       "    <tr>\n",
       "      <th>5</th>\n",
       "      <td>-1.662660</td>\n",
       "      <td>1.001596</td>\n",
       "      <td>3</td>\n",
       "    </tr>\n",
       "    <tr>\n",
       "      <th>6</th>\n",
       "      <td>-1.624491</td>\n",
       "      <td>-1.715913</td>\n",
       "      <td>4</td>\n",
       "    </tr>\n",
       "    <tr>\n",
       "      <th>7</th>\n",
       "      <td>-1.624491</td>\n",
       "      <td>1.700384</td>\n",
       "      <td>3</td>\n",
       "    </tr>\n",
       "    <tr>\n",
       "      <th>8</th>\n",
       "      <td>-1.586321</td>\n",
       "      <td>-1.832378</td>\n",
       "      <td>4</td>\n",
       "    </tr>\n",
       "    <tr>\n",
       "      <th>9</th>\n",
       "      <td>-1.586321</td>\n",
       "      <td>0.846310</td>\n",
       "      <td>3</td>\n",
       "    </tr>\n",
       "    <tr>\n",
       "      <th>10</th>\n",
       "      <td>-1.586321</td>\n",
       "      <td>-1.405340</td>\n",
       "      <td>4</td>\n",
       "    </tr>\n",
       "    <tr>\n",
       "      <th>11</th>\n",
       "      <td>-1.586321</td>\n",
       "      <td>1.894492</td>\n",
       "      <td>3</td>\n",
       "    </tr>\n",
       "    <tr>\n",
       "      <th>12</th>\n",
       "      <td>-1.548152</td>\n",
       "      <td>-1.366519</td>\n",
       "      <td>4</td>\n",
       "    </tr>\n",
       "    <tr>\n",
       "      <th>13</th>\n",
       "      <td>-1.548152</td>\n",
       "      <td>1.040418</td>\n",
       "      <td>3</td>\n",
       "    </tr>\n",
       "    <tr>\n",
       "      <th>14</th>\n",
       "      <td>-1.548152</td>\n",
       "      <td>-1.444162</td>\n",
       "      <td>4</td>\n",
       "    </tr>\n",
       "    <tr>\n",
       "      <th>15</th>\n",
       "      <td>-1.548152</td>\n",
       "      <td>1.118061</td>\n",
       "      <td>3</td>\n",
       "    </tr>\n",
       "    <tr>\n",
       "      <th>16</th>\n",
       "      <td>-1.509983</td>\n",
       "      <td>-0.590088</td>\n",
       "      <td>4</td>\n",
       "    </tr>\n",
       "    <tr>\n",
       "      <th>17</th>\n",
       "      <td>-1.509983</td>\n",
       "      <td>0.613381</td>\n",
       "      <td>3</td>\n",
       "    </tr>\n",
       "    <tr>\n",
       "      <th>18</th>\n",
       "      <td>-1.433644</td>\n",
       "      <td>-0.823017</td>\n",
       "      <td>4</td>\n",
       "    </tr>\n",
       "    <tr>\n",
       "      <th>19</th>\n",
       "      <td>-1.433644</td>\n",
       "      <td>1.855671</td>\n",
       "      <td>3</td>\n",
       "    </tr>\n",
       "  </tbody>\n",
       "</table>\n",
       "</div>"
      ],
      "text/plain": [
       "           0         1  Agglo_label\n",
       "0  -1.738999 -0.434801            4\n",
       "1  -1.738999  1.195704            3\n",
       "2  -1.700830 -1.715913            4\n",
       "3  -1.700830  1.040418            3\n",
       "4  -1.662660 -0.395980            4\n",
       "5  -1.662660  1.001596            3\n",
       "6  -1.624491 -1.715913            4\n",
       "7  -1.624491  1.700384            3\n",
       "8  -1.586321 -1.832378            4\n",
       "9  -1.586321  0.846310            3\n",
       "10 -1.586321 -1.405340            4\n",
       "11 -1.586321  1.894492            3\n",
       "12 -1.548152 -1.366519            4\n",
       "13 -1.548152  1.040418            3\n",
       "14 -1.548152 -1.444162            4\n",
       "15 -1.548152  1.118061            3\n",
       "16 -1.509983 -0.590088            4\n",
       "17 -1.509983  0.613381            3\n",
       "18 -1.433644 -0.823017            4\n",
       "19 -1.433644  1.855671            3"
      ]
     },
     "execution_count": 76,
     "metadata": {},
     "output_type": "execute_result"
    }
   ],
   "source": [
    "X.head(20)"
   ]
  },
  {
   "cell_type": "code",
   "execution_count": 86,
   "id": "74ece703",
   "metadata": {},
   "outputs": [
    {
     "data": {
      "text/plain": [
       "<AxesSubplot:xlabel='0', ylabel='1'>"
      ]
     },
     "execution_count": 86,
     "metadata": {},
     "output_type": "execute_result"
    },
    {
     "data": {
      "image/png": "[encoded data removed]",
      "text/plain": [
       "<Figure size 432x288 with 1 Axes>"
      ]
     },
     "metadata": {
      "needs_background": "light"
     },
     "output_type": "display_data"
    }
   ],
   "source": [
    "sns.scatterplot(x=X[X['Agglo_label']==0][0], y=X[X['Agglo_label']==0][1],color='blue', label='cluster1',s=50)\n",
    "sns.scatterplot(x=X[X['Agglo_label']==1][0], y=X[X['Agglo_label']==1][1],color='green', label='cluster2',s=50)\n",
    "sns.scatterplot(x=X[X['Agglo_label']==2][0], y=X[X['Agglo_label']==2][1],color='yellow', label='cluster3',s=50)\n",
    "sns.scatterplot(x=X[X['Agglo_label']==3][0], y=X[X['Agglo_label']==3][1],color='cyan', label='cluster4',s=50)\n",
    "sns.scatterplot(x=X[X['Agglo_label']==4][0], y=X[X['Agglo_label']==4][1],color='m', label='cluster4',s=50)"
   ]
  },
  {
   "cell_type": "code",
   "execution_count": 88,
   "id": "ea1c185d",
   "metadata": {},
   "outputs": [
    {
     "data": {
      "text/plain": [
       "0.5538089226688662"
      ]
     },
     "execution_count": 88,
     "metadata": {},
     "output_type": "execute_result"
    }
   ],
   "source": [
    "silhouette_score(X.iloc[:,[0,1]],X['Agglo_label'])"
   ]
  },
  {
   "cell_type": "code",
   "execution_count": null,
   "id": "3e0f7e3f",
   "metadata": {},
   "outputs": [],
   "source": []
  },
  {
   "cell_type": "markdown",
   "id": "d7b3d479",
   "metadata": {},
   "source": [
    "# Conclusions"
   ]
  },
  {
   "cell_type": "code",
   "execution_count": 2,
   "id": "2f1d0fa6",
   "metadata": {},
   "outputs": [],
   "source": [
    "# we have different types of Customers based on AnnualIncome and Spending Score.\n",
    "\n",
    "# (POOR CLASS)\n",
    "# Customers whose income is less and spending is also less.\n",
    "# Customers whose income is less but spending is more.\n",
    "\n",
    "# (RICH CLASS)\n",
    "# Customers whose income is more but spending is less.\n",
    "# Customers whose income is more and spending is also more.\n",
    "\n",
    "# (MIDDLE CLASS)\n",
    "# Customers who are middle class and their spending is also middle class."
   ]
  },
  {
   "cell_type": "code",
   "execution_count": null,
   "id": "4f118f19",
   "metadata": {},
   "outputs": [],
   "source": []
  }
 ],
 "metadata": {
  "kernelspec": {
   "display_name": "Python 3 (ipykernel)",
   "language": "python",
   "name": "python3"
  },
  "language_info": {
   "codemirror_mode": {
    "name": "ipython",
    "version": 3
   },
   "file_extension": ".py",
   "mimetype": "text/x-python",
   "name": "python",
   "nbconvert_exporter": "python",
   "pygments_lexer": "ipython3",
   "version": "3.9.7"
  }
 },
 "nbformat": 4,
 "nbformat_minor": 5
}
